{
 "cells": [
  {
   "cell_type": "code",
   "execution_count": 4,
   "metadata": {
    "collapsed": false
   },
   "outputs": [
    {
     "name": "stdout",
     "output_type": "stream",
     "text": [
      "3\n",
      "7\n",
      "9\n",
      "21\n",
      "30\n",
      "34\n",
      "71\n",
      "81\n",
      "89\n",
      "97\n",
      "151\n",
      "184\n",
      "215\n",
      "234\n",
      "242\n",
      "268\n",
      "290\n",
      "311\n",
      "331\n",
      "344\n",
      "380\n",
      "384\n",
      "406\n",
      "421\n",
      "469\n",
      "475\n",
      "490\n",
      "499\n",
      "507\n",
      "530\n",
      "531\n",
      "605\n",
      "607\n",
      "614\n",
      "621\n",
      "638\n",
      "644\n",
      "687\n",
      "712\n",
      "721\n",
      "767\n",
      "779\n",
      "781\n",
      "794\n",
      "800\n",
      "811\n",
      "839\n",
      "840\n",
      "869\n",
      "882\n",
      "901\n",
      "903\n",
      "905\n",
      "909\n",
      "913\n",
      "927\n",
      "946\n"
     ]
    }
   ],
   "source": [
    "Files = open(\"bad_id.txt\", \"r\")\n",
    "File = Files.readline()\n",
    "\n",
    "while(True):\n",
    "    File = Files.readline()\n",
    "    if(File == \"\"):\n",
    "        break\n",
    "    File = File.strip()\n",
    "    if os.path.exists(File + \".jpg\"):\n",
    "        print(\"remove file {0}.jpg\").format(File)\n",
    "        os.remove(File + \".jpg\")"
   ]
  }
 ],
 "metadata": {
  "kernelspec": {
   "display_name": "Python [default]",
   "language": "python",
   "name": "python2"
  },
  "language_info": {
   "codemirror_mode": {
    "name": "ipython",
    "version": 2
   },
   "file_extension": ".py",
   "mimetype": "text/x-python",
   "name": "python",
   "nbconvert_exporter": "python",
   "pygments_lexer": "ipython2",
   "version": "2.7.12"
  }
 },
 "nbformat": 4,
 "nbformat_minor": 1
}
