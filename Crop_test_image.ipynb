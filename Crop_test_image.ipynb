{
 "cells": [
  {
   "cell_type": "markdown",
   "metadata": {},
   "source": [
    "# Define environment"
   ]
  },
  {
   "cell_type": "code",
   "execution_count": null,
   "metadata": {
    "collapsed": true
   },
   "outputs": [],
   "source": [
    "SYSTEM = \"Paperspace\" # \"Kaggle\" # "
   ]
  },
  {
   "cell_type": "markdown",
   "metadata": {},
   "source": [
    "# import module"
   ]
  },
  {
   "cell_type": "code",
   "execution_count": null,
   "metadata": {
    "collapsed": true
   },
   "outputs": [],
   "source": [
    "import numpy as np\n",
    "import pandas as pd\n",
    "import os\n",
    "import cv2\n",
    "import matplotlib.pyplot as plt"
   ]
  },
  {
   "cell_type": "markdown",
   "metadata": {},
   "source": [
    "# Get Argument"
   ]
  },
  {
   "cell_type": "code",
   "execution_count": null,
   "metadata": {
    "collapsed": true
   },
   "outputs": [],
   "source": [
    "if SYSTEM == \"Kaggle\":\n",
    "    Image_Path = \"../input/Train/\"\n",
    "    Crop_Path  = \"./TestLargeCrop/\"\n",
    "else:\n",
    "    Image_Path = \"/home/paperspace/Project/Sealion/TestLargeRaw/\"\n",
    "    Crop_Path  = \"/home/paperspace/Project/Sealion/TestLargeCrop/\""
   ]
  },
  {
   "cell_type": "markdown",
   "metadata": {},
   "source": [
    "# Define Cropped Image Size"
   ]
  },
  {
   "cell_type": "code",
   "execution_count": null,
   "metadata": {
    "collapsed": true
   },
   "outputs": [],
   "source": [
    "Crop_Size = (416,416)"
   ]
  },
  {
   "cell_type": "markdown",
   "metadata": {},
   "source": [
    "# Get Original Images"
   ]
  },
  {
   "cell_type": "code",
   "execution_count": null,
   "metadata": {
    "collapsed": true
   },
   "outputs": [],
   "source": [
    "file_names = os.listdir(Image_Path)\n",
    "file_names = sorted(file_names, key=lambda \n",
    "                    item: (int(item.partition('.')[0]) if item[0].isdigit() else float('inf'), item))\n",
    "file_names = file_names[:1]"
   ]
  },
  {
   "cell_type": "code",
   "execution_count": null,
   "metadata": {
    "collapsed": true
   },
   "outputs": [],
   "source": [
    "print(file_names)"
   ]
  },
  {
   "cell_type": "markdown",
   "metadata": {},
   "source": [
    "# Crop Images"
   ]
  },
  {
   "cell_type": "code",
   "execution_count": null,
   "metadata": {
    "collapsed": true
   },
   "outputs": [],
   "source": [
    "def ceil_devide(Big, Small):\n",
    "    result = int(Big/Small)\n",
    "    if(Big%Small != 0):\n",
    "        result += 1\n",
    "    return result"
   ]
  },
  {
   "cell_type": "code",
   "execution_count": null,
   "metadata": {
    "collapsed": true
   },
   "outputs": [],
   "source": [
    "def create_crop_template(filename):\n",
    "    ### remove existing template\n",
    "    if os.path.exists('crop_template.jpg'):\n",
    "        os.remove('crop_template.jpg')\n",
    "        \n",
    "    image = cv2.imread(Image_Path + filename)\n",
    "    image = image[:Crop_Size[1],:Crop_Size[0],:]\n",
    "    image = cv2.absdiff(image,image)\n",
    "\n",
    "    cv2.imwrite('crop_template.jpg',image)"
   ]
  },
  {
   "cell_type": "code",
   "execution_count": null,
   "metadata": {
    "collapsed": true
   },
   "outputs": [],
   "source": [
    "def delete_crop_template():\n",
    "    os.remove('crop_template.jpg')"
   ]
  },
  {
   "cell_type": "code",
   "execution_count": null,
   "metadata": {
    "collapsed": true
   },
   "outputs": [],
   "source": [
    "def create_crop_file():\n",
    "    if(SYSTEM == \"Kaggle\"):\n",
    "        if not os.path.exists(\"./TestLargeCrop/\"):\n",
    "            os.makedirs(\"./TestLargeCrop/\")\n",
    "        if not os.path.exists(\"./TestLargeCrop/JPEGImages/\"):\n",
    "            os.makedirs(\"./TestLargeCrop/JPEGImages/\")        \n",
    "    else:\n",
    "        if not os.path.exists(\"/home/paperspace/Project/Sealion/TestLargeCrop/\"):\n",
    "            os.makedirs(\"/home/paperspace/Project/Sealion/TestLargeCrop/\")\n",
    "        if not os.path.exists(\"/home/paperspace/Project/Sealion/TestLargeCrop/JPEGImages/\"):\n",
    "            os.makedirs(\"/home/paperspace/Project/Sealion/TestLargeCrop/JPEGImages/\")"
   ]
  },
  {
   "cell_type": "code",
   "execution_count": null,
   "metadata": {
    "collapsed": true
   },
   "outputs": [],
   "source": [
    "def delete_crop_image_names():\n",
    "    if os.path.exists(Crop_Path + \"TestLargeCrop.txt\"):\n",
    "        os.remove(Crop_Path + \"TestLargeCrop.txt\")"
   ]
  },
  {
   "cell_type": "code",
   "execution_count": null,
   "metadata": {
    "collapsed": true
   },
   "outputs": [],
   "source": [
    "create_crop_template(file_names[0])\n",
    "create_crop_file()\n",
    "\n",
    "delete_crop_image_names()\n",
    "crop_image_names = open(Crop_Path + \"TestLargeCrop.txt\", 'w')\n",
    "\n",
    "for filename in file_names:\n",
    "    ### skip if file is not image\n",
    "    if(filename[-3:] != 'jpg'):\n",
    "        continue\n",
    "        \n",
    "    ### read origin image\n",
    "    print(\"Cropping {0}\".format(filename))\n",
    "    ori_image = cv2.imread(Image_Path + filename)\n",
    "    Shape = ori_image.shape\n",
    "    X_Len = Shape[1]\n",
    "    Y_Len = Shape[0]\n",
    "    \n",
    "    X_Amt = ceil_devide(X_Len, Crop_Size[0])\n",
    "    Y_Amt = ceil_devide(Y_Len, Crop_Size[1])\n",
    "    \n",
    "    cnt = 0\n",
    "    for j in range(Y_Amt):\n",
    "        for i in range(X_Amt):\n",
    "            # counting\n",
    "            cnt += 1\n",
    "            \n",
    "            # create crop image\n",
    "            crop_image = cv2.imread('crop_template.jpg')\n",
    "            tmp_image  = ori_image[j*Crop_Size[1]:(j+1)*Crop_Size[1], i*Crop_Size[0]:(i+1)*Crop_Size[0], :]\n",
    "            crop_image[:tmp_image.shape[0], :tmp_image.shape[1], :] = tmp_image\n",
    "            \n",
    "            # save crop image\n",
    "            Name = Crop_Path + \"JPEGImages/\" + filename.split('.')[0] + '_' + str(cnt) + '.jpg'\n",
    "            cv2.imwrite(Name, crop_image) \n",
    "            \n",
    "            # write crop images in txt\n",
    "            crop_image_names.write(Name)\n",
    "            crop_image_names.write(\"\\n\")\n",
    "\n",
    "crop_image_names.close()\n",
    "delete_crop_template()"
   ]
  }
 ],
 "metadata": {
  "kernelspec": {
   "display_name": "Python [default]",
   "language": "python",
   "name": "python2"
  },
  "language_info": {
   "codemirror_mode": {
    "name": "ipython",
    "version": 2
   },
   "file_extension": ".py",
   "mimetype": "text/x-python",
   "name": "python",
   "nbconvert_exporter": "python",
   "pygments_lexer": "ipython2",
   "version": "2.7.12"
  }
 },
 "nbformat": 4,
 "nbformat_minor": 1
}
